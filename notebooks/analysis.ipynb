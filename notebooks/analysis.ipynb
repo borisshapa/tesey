{
 "cells": [
  {
   "cell_type": "code",
   "execution_count": 19,
   "outputs": [],
   "source": [
    "import os\n",
    "import os.path\n",
    "\n",
    "import numpy as np\n",
    "from numpy import typing as npt\n",
    "\n",
    "from src import seg_datasets, utils\n",
    "from matplotlib import pyplot as plt"
   ],
   "metadata": {
    "collapsed": false,
    "ExecuteTime": {
     "end_time": "2023-06-24T07:09:40.379293Z",
     "start_time": "2023-06-24T07:09:40.372919Z"
    }
   }
  },
  {
   "cell_type": "code",
   "execution_count": 10,
   "outputs": [],
   "source": [
    "def get_sentence_count_statistics(dataset: seg_datasets.SentenceEmbeddingDataset) -> npt.NDArray[np.int32]:\n",
    "    sentences_count_statistic = []\n",
    "\n",
    "    for item in dataset:\n",
    "        sentences_count = item[\"sentence_embeddings\"].shape[0]\n",
    "        assert sentences_count == len(item[\"labels\"])\n",
    "\n",
    "        sentences_count_statistic.append(sentences_count)\n",
    "    return np.array(sentences_count_statistic)"
   ],
   "metadata": {
    "collapsed": false,
    "ExecuteTime": {
     "end_time": "2023-06-24T07:05:48.249009Z",
     "start_time": "2023-06-24T07:05:48.240912Z"
    }
   }
  },
  {
   "cell_type": "code",
   "execution_count": 11,
   "outputs": [],
   "source": [
    "val_dataset = seg_datasets.SentenceEmbeddingDataset(\"../data/sentence_embeddings_val.jsonl\", max_len=None)\n",
    "\n",
    "sentences_count_statistic = get_sentence_count_statistics(val_dataset)"
   ],
   "metadata": {
    "collapsed": false,
    "ExecuteTime": {
     "end_time": "2023-06-24T07:05:59.647147Z",
     "start_time": "2023-06-24T07:05:56.526579Z"
    }
   }
  },
  {
   "cell_type": "code",
   "execution_count": 12,
   "outputs": [
    {
     "data": {
      "text/plain": "<Figure size 640x480 with 1 Axes>",
      "image/png": "[encoded data removed]"
     },
     "metadata": {},
     "output_type": "display_data"
    }
   ],
   "source": [
    "sentences_count_statistic = np.array(sentences_count_statistic)\n",
    "plt.hist(sentences_count_statistic, bins=100)\n",
    "plt.show()"
   ],
   "metadata": {
    "collapsed": false,
    "ExecuteTime": {
     "end_time": "2023-06-24T07:06:08.920605Z",
     "start_time": "2023-06-24T07:06:08.673240Z"
    }
   }
  },
  {
   "cell_type": "code",
   "execution_count": 13,
   "outputs": [
    {
     "name": "stdout",
     "output_type": "stream",
     "text": [
      "Unlimited document size:\n",
      "Mean document size in sentences: 101.66153846153846\n",
      "Max document size in sentences: 701\n"
     ]
    }
   ],
   "source": [
    "print(f\"Unlimited document size:\")\n",
    "print(f\"Mean document size in sentences: {sentences_count_statistic.mean()}\")\n",
    "print(f\"Max document size in sentences: {sentences_count_statistic.max()}\")"
   ],
   "metadata": {
    "collapsed": false,
    "ExecuteTime": {
     "end_time": "2023-06-24T07:06:15.198823Z",
     "start_time": "2023-06-24T07:06:15.186300Z"
    }
   }
  },
  {
   "cell_type": "code",
   "execution_count": 14,
   "outputs": [],
   "source": [
    "val_dataset = seg_datasets.SentenceEmbeddingDataset(\"../data/sentence_embeddings_val.jsonl\", max_len=2048)\n",
    "\n",
    "sentences_count_statistic = get_sentence_count_statistics(val_dataset)"
   ],
   "metadata": {
    "collapsed": false,
    "ExecuteTime": {
     "end_time": "2023-06-24T07:06:27.008359Z",
     "start_time": "2023-06-24T07:06:24.051310Z"
    }
   }
  },
  {
   "cell_type": "code",
   "execution_count": 15,
   "outputs": [
    {
     "data": {
      "text/plain": "<Figure size 640x480 with 1 Axes>",
      "image/png": "[encoded data removed]"
     },
     "metadata": {},
     "output_type": "display_data"
    }
   ],
   "source": [
    "sentences_count_statistic = np.array(sentences_count_statistic)\n",
    "plt.hist(sentences_count_statistic, bins=100)\n",
    "plt.show()"
   ],
   "metadata": {
    "collapsed": false,
    "ExecuteTime": {
     "end_time": "2023-06-24T07:06:29.107163Z",
     "start_time": "2023-06-24T07:06:28.591642Z"
    }
   }
  },
  {
   "cell_type": "code",
   "execution_count": 16,
   "outputs": [
    {
     "name": "stdout",
     "output_type": "stream",
     "text": [
      "Unlimited document size:\n",
      "Mean document size in sentences: 101.66153846153846\n",
      "Max document size in sentences: 701\n"
     ]
    }
   ],
   "source": [
    "print(f\"Unlimited document size:\")\n",
    "print(f\"Mean document size in sentences: {sentences_count_statistic.mean()}\")\n",
    "print(f\"Max document size in sentences: {sentences_count_statistic.max()}\")"
   ],
   "metadata": {
    "collapsed": false,
    "ExecuteTime": {
     "end_time": "2023-06-24T07:06:29.234264Z",
     "start_time": "2023-06-24T07:06:29.227170Z"
    }
   }
  },
  {
   "cell_type": "code",
   "execution_count": 25,
   "outputs": [
    {
     "name": "stdout",
     "output_type": "stream",
     "text": [
      "train.jsonl\n",
      "Document count: 1040\n",
      "Sentence count: 91751\n",
      "Mean sentence count: 88.22211538461538\n",
      "Max sent count: 642\n",
      "\n",
      "test.jsonl\n",
      "Document count: 130\n",
      "Sentence count: 11634\n",
      "Mean sentence count: 89.49230769230769\n",
      "Max sent count: 383\n",
      "\n",
      "val.jsonl\n",
      "Document count: 130\n",
      "Sentence count: 13216\n",
      "Mean sentence count: 101.66153846153846\n",
      "Max sent count: 701\n",
      "\n"
     ]
    }
   ],
   "source": [
    "for dataset in [\"train.jsonl\", \"test.jsonl\", \"val.jsonl\"]:\n",
    "    print(dataset)\n",
    "    data = utils.load_jsonl(os.path.join(\"../data\", dataset))\n",
    "    print(f\"Document count: {len(data)}\")\n",
    "    sent_count = 0\n",
    "    sentences_count_statistic = []\n",
    "    for document in data:\n",
    "        sent_count += len(document)\n",
    "        sentences_count_statistic.append(len(document))\n",
    "\n",
    "    sentences_count_statistic = np.array(sentences_count_statistic)\n",
    "    print(f\"Sentence count: {sent_count}\")\n",
    "    print(f\"Mean sentence count: {sentences_count_statistic.mean()}\")\n",
    "    print(f\"Max sent count: {sentences_count_statistic.max()}\")\n",
    "    print()"
   ],
   "metadata": {
    "collapsed": false,
    "ExecuteTime": {
     "end_time": "2023-06-24T07:13:30.800803Z",
     "start_time": "2023-06-24T07:13:30.198270Z"
    }
   }
  },
  {
   "cell_type": "code",
   "execution_count": null,
   "outputs": [],
   "source": [],
   "metadata": {
    "collapsed": false
   }
  }
 ],
 "metadata": {
  "kernelspec": {
   "display_name": "Python 3",
   "language": "python",
   "name": "python3"
  },
  "language_info": {
   "codemirror_mode": {
    "name": "ipython",
    "version": 2
   },
   "file_extension": ".py",
   "mimetype": "text/x-python",
   "name": "python",
   "nbconvert_exporter": "python",
   "pygments_lexer": "ipython2",
   "version": "2.7.6"
  }
 },
 "nbformat": 4,
 "nbformat_minor": 0
}
